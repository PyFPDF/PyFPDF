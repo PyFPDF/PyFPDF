{
 "cells": [
  {
   "cell_type": "code",
   "execution_count": 11,
   "id": "2ea6ad7a",
   "metadata": {},
   "outputs": [
    {
     "name": "stdout",
     "output_type": "stream",
     "text": [
      "{1: <fpdf.output.PDFPattern object at 0x105e35f90>}\n",
      "DeviceRGB(r=0.09019607843137255, g=0.25882352941176473, b=0.796078431372549, a=None)\n",
      "0.0902 0.2588 0.7961 rg\n",
      "DeviceRGB(r=0.09019607843137255, g=0.25882352941176473, b=0.796078431372549, a=None)\n",
      "0.0902 0.2588 0.7961 rg\n",
      "DeviceRGB(r=0.09019607843137255, g=0.25882352941176473, b=0.796078431372549, a=None)\n",
      "0.0902 0.2588 0.7961 rg\n",
      "DeviceRGB(r=0.09019607843137255, g=0.25882352941176473, b=0.796078431372549, a=None)\n",
      "0.0902 0.2588 0.7961 rg\n",
      "DeviceRGB(r=0.09019607843137255, g=0.25882352941176473, b=0.796078431372549, a=None)\n",
      "0.0902 0.2588 0.7961 rg\n",
      "DeviceRGB(r=0.09019607843137255, g=0.25882352941176473, b=0.796078431372549, a=None)\n",
      "0.0902 0.2588 0.7961 rg\n",
      "DeviceRGB(r=0.09019607843137255, g=0.25882352941176473, b=0.796078431372549, a=None)\n",
      "0.0902 0.2588 0.7961 rg\n",
      "DeviceRGB(r=0.09019607843137255, g=0.25882352941176473, b=0.796078431372549, a=None)\n",
      "0.0902 0.2588 0.7961 rg\n",
      "DeviceRGB(r=0.09019607843137255, g=0.25882352941176473, b=0.796078431372549, a=None)\n",
      "0.0902 0.2588 0.7961 rg\n",
      "DeviceRGB(r=0.09019607843137255, g=0.25882352941176473, b=0.796078431372549, a=None)\n",
      "0.0902 0.2588 0.7961 rg\n",
      "DeviceRGB(r=0.09019607843137255, g=0.25882352941176473, b=0.796078431372549, a=None)\n",
      "0.0902 0.2588 0.7961 rg\n",
      "DeviceRGB(r=0.09019607843137255, g=0.25882352941176473, b=0.796078431372549, a=None)\n",
      "0.0902 0.2588 0.7961 rg\n",
      "DeviceRGB(r=0.09019607843137255, g=0.25882352941176473, b=0.796078431372549, a=None)\n",
      "0.0902 0.2588 0.7961 rg\n",
      "DeviceRGB(r=0.09019607843137255, g=0.25882352941176473, b=0.796078431372549, a=None)\n",
      "0.0902 0.2588 0.7961 rg\n",
      "DeviceRGB(r=0.09019607843137255, g=0.25882352941176473, b=0.796078431372549, a=None)\n",
      "0.0902 0.2588 0.7961 rg\n",
      "DeviceRGB(r=0.09019607843137255, g=0.25882352941176473, b=0.796078431372549, a=None)\n",
      "0.0902 0.2588 0.7961 rg\n",
      "DeviceRGB(r=0.09019607843137255, g=0.25882352941176473, b=0.796078431372549, a=None)\n",
      "0.0902 0.2588 0.7961 rg\n",
      "DeviceRGB(r=0.09019607843137255, g=0.25882352941176473, b=0.796078431372549, a=None)\n",
      "0.0902 0.2588 0.7961 rg\n",
      "DeviceRGB(r=0.09019607843137255, g=0.25882352941176473, b=0.796078431372549, a=None)\n",
      "0.0902 0.2588 0.7961 rg\n",
      "DeviceRGB(r=0.09019607843137255, g=0.25882352941176473, b=0.796078431372549, a=None)\n",
      "0.0902 0.2588 0.7961 rg\n",
      "DeviceRGB(r=0.09019607843137255, g=0.25882352941176473, b=0.796078431372549, a=None)\n",
      "0.0902 0.2588 0.7961 rg\n",
      "DeviceRGB(r=0.09019607843137255, g=0.25882352941176473, b=0.796078431372549, a=None)\n",
      "0.0902 0.2588 0.7961 rg\n",
      "DeviceRGB(r=0.09019607843137255, g=0.25882352941176473, b=0.796078431372549, a=None)\n",
      "0.0902 0.2588 0.7961 rg\n",
      "DeviceRGB(r=0.09019607843137255, g=0.25882352941176473, b=0.796078431372549, a=None)\n",
      "0.0902 0.2588 0.7961 rg\n",
      "DeviceRGB(r=0.09019607843137255, g=0.25882352941176473, b=0.796078431372549, a=None)\n",
      "0.0902 0.2588 0.7961 rg\n",
      "{1: <fpdf.output.PDFPattern object at 0x105e35f90>, 2: <fpdf.output.PDFPattern object at 0x107ba71d0>}\n",
      "{1: <fpdf.output.PDFPattern object at 0x105e35f90>, 2: <fpdf.output.PDFPattern object at 0x107ba71d0>, 3: <fpdf.output.PDFPattern object at 0x1076cfa90>}\n"
     ]
    },
    {
     "ename": "ValueError",
     "evalue": "Not defined pattern type",
     "output_type": "error",
     "traceback": [
      "\u001b[0;31m---------------------------------------------------------------------------\u001b[0m",
      "\u001b[0;31mValueError\u001b[0m                                Traceback (most recent call last)",
      "Cell \u001b[0;32mIn[11], line 16\u001b[0m\n\u001b[1;32m     13\u001b[0m pdf\u001b[38;5;241m.\u001b[39mrect(\u001b[38;5;241m100\u001b[39m,\u001b[38;5;241m100\u001b[39m,\u001b[38;5;241m50\u001b[39m,\u001b[38;5;241m50\u001b[39m,\u001b[38;5;124m\"\u001b[39m\u001b[38;5;124mPATTERN\u001b[39m\u001b[38;5;124m\"\u001b[39m)\n\u001b[1;32m     15\u001b[0m pdf\u001b[38;5;241m.\u001b[39mset_fill_pattern([\u001b[38;5;241m0\u001b[39m,\u001b[38;5;241m0\u001b[39m,\u001b[38;5;241m5\u001b[39m,\u001b[38;5;241m5\u001b[39m],\u001b[38;5;241m10\u001b[39m, \u001b[38;5;241m10\u001b[39m, \u001b[38;5;124m\"\u001b[39m\u001b[38;5;124ms\u001b[39m\u001b[38;5;124m\"\u001b[39m)\n\u001b[0;32m---> 16\u001b[0m pdf\u001b[38;5;241m.\u001b[39mrect(\u001b[38;5;241m50\u001b[39m,\u001b[38;5;241m50\u001b[39m,\u001b[38;5;241m50\u001b[39m,\u001b[38;5;241m50\u001b[39m,\u001b[38;5;124m\"\u001b[39m\u001b[38;5;124mPATTERN\u001b[39m\u001b[38;5;124m\"\u001b[39m)\n\u001b[1;32m     18\u001b[0m pdf\u001b[38;5;241m.\u001b[39moutput(\u001b[38;5;124m\"\u001b[39m\u001b[38;5;124mtrying.pdf\u001b[39m\u001b[38;5;124m\"\u001b[39m)\n",
      "File \u001b[0;32m~/Desktop/p5/fpdf2-b/fpdf/fpdf.py:202\u001b[0m, in \u001b[0;36mcheck_page.<locals>.wrapper\u001b[0;34m(self, *args, **kwargs)\u001b[0m\n\u001b[1;32m    200\u001b[0m \u001b[38;5;28;01mif\u001b[39;00m \u001b[38;5;129;01mnot\u001b[39;00m \u001b[38;5;28mself\u001b[39m\u001b[38;5;241m.\u001b[39mpage \u001b[38;5;129;01mand\u001b[39;00m \u001b[38;5;129;01mnot\u001b[39;00m (kwargs\u001b[38;5;241m.\u001b[39mget(\u001b[38;5;124m\"\u001b[39m\u001b[38;5;124mdry_run\u001b[39m\u001b[38;5;124m\"\u001b[39m) \u001b[38;5;129;01mor\u001b[39;00m kwargs\u001b[38;5;241m.\u001b[39mget(\u001b[38;5;124m\"\u001b[39m\u001b[38;5;124msplit_only\u001b[39m\u001b[38;5;124m\"\u001b[39m)):\n\u001b[1;32m    201\u001b[0m     \u001b[38;5;28;01mraise\u001b[39;00m FPDFException(\u001b[38;5;124m\"\u001b[39m\u001b[38;5;124mNo page open, you need to call add_page() first\u001b[39m\u001b[38;5;124m\"\u001b[39m)\n\u001b[0;32m--> 202\u001b[0m \u001b[38;5;28;01mreturn\u001b[39;00m fn(\u001b[38;5;28mself\u001b[39m, \u001b[38;5;241m*\u001b[39margs, \u001b[38;5;241m*\u001b[39m\u001b[38;5;241m*\u001b[39mkwargs)\n",
      "File \u001b[0;32m~/Desktop/p5/fpdf2-b/fpdf/fpdf.py:1450\u001b[0m, in \u001b[0;36mFPDF.rect\u001b[0;34m(self, x, y, w, h, style, round_corners, corner_radius)\u001b[0m\n\u001b[1;32m   1447\u001b[0m \u001b[38;5;28;01mif\u001b[39;00m style \u001b[38;5;241m==\u001b[39m RenderStyle\u001b[38;5;241m.\u001b[39mP:\n\u001b[1;32m   1448\u001b[0m     \u001b[38;5;66;03m# Check if a current pattern is set and apply it\u001b[39;00m\n\u001b[1;32m   1449\u001b[0m     \u001b[38;5;28;01mif\u001b[39;00m \u001b[38;5;28mself\u001b[39m\u001b[38;5;241m.\u001b[39mcurrent_fill_pattern \u001b[38;5;129;01mis\u001b[39;00m \u001b[38;5;129;01mnot\u001b[39;00m \u001b[38;5;28;01mNone\u001b[39;00m:\n\u001b[0;32m-> 1450\u001b[0m         \u001b[38;5;28mself\u001b[39m\u001b[38;5;241m.\u001b[39mapply_fill_pattern(\u001b[38;5;28mself\u001b[39m\u001b[38;5;241m.\u001b[39mcurrent_fill_pattern, x, y, w, h)\n\u001b[1;32m   1451\u001b[0m         \u001b[38;5;28;01mreturn\u001b[39;00m \u001b[38;5;28;01mNone\u001b[39;00m \n\u001b[1;32m   1453\u001b[0m \u001b[38;5;28;01mif\u001b[39;00m round_corners \u001b[38;5;129;01mis\u001b[39;00m \u001b[38;5;129;01mnot\u001b[39;00m \u001b[38;5;28;01mFalse\u001b[39;00m:\n",
      "File \u001b[0;32m~/Desktop/p5/fpdf2-b/fpdf/fpdf.py:1412\u001b[0m, in \u001b[0;36mFPDF.apply_fill_pattern\u001b[0;34m(self, pattern_id, x, y, w, h)\u001b[0m\n\u001b[1;32m   1410\u001b[0m     \u001b[38;5;28mself\u001b[39m\u001b[38;5;241m.\u001b[39mrect(pattern_x, pattern_y, pattern_width, pattern_height, \u001b[38;5;124m'\u001b[39m\u001b[38;5;124mD\u001b[39m\u001b[38;5;124m'\u001b[39m)\n\u001b[1;32m   1411\u001b[0m \u001b[38;5;28;01melse\u001b[39;00m:\n\u001b[0;32m-> 1412\u001b[0m     \u001b[38;5;28;01mraise\u001b[39;00m \u001b[38;5;167;01mValueError\u001b[39;00m(\u001b[38;5;124m'\u001b[39m\u001b[38;5;124mNot defined pattern type\u001b[39m\u001b[38;5;124m'\u001b[39m)\n",
      "\u001b[0;31mValueError\u001b[0m: Not defined pattern type"
     ]
    }
   ],
   "source": [
    "from fpdf import FPDF\n",
    "pdf = FPDF()\n",
    "pdf.compress= False\n",
    "pdf.add_page()\n",
    "\n",
    "#color is optional \n",
    "pdf.set_fill_pattern([0,0,5,5],10, 10,\"circles\", (23,66,203))\n",
    "pdf.rect(10,10,50,50,\"PATTERN\")\n",
    "\n",
    "pdf.set_fill_pattern([0,0,5,5],10, 10,\"squares\")\n",
    "pdf.rect(100,100,50,50,\"PATTERN\")\n",
    "\n",
    "#should get error if not circle or square\n",
    "#pdf.set_fill_pattern([0,0,5,5],10, 10, \"s\")\n",
    "#pdf.rect(50,50,50,50,\"PATTERN\")\n",
    "\n",
    "pdf.output(\"trying.pdf\")"
   ]
  },
  {
   "cell_type": "code",
   "execution_count": null,
   "id": "cd625700",
   "metadata": {},
   "outputs": [],
   "source": []
  },
  {
   "cell_type": "code",
   "execution_count": null,
   "id": "c0e1098a",
   "metadata": {},
   "outputs": [],
   "source": []
  },
  {
   "cell_type": "code",
   "execution_count": null,
   "id": "707dd1fe",
   "metadata": {},
   "outputs": [],
   "source": []
  }
 ],
 "metadata": {
  "kernelspec": {
   "display_name": "Python 3 (ipykernel)",
   "language": "python",
   "name": "python3"
  },
  "language_info": {
   "codemirror_mode": {
    "name": "ipython",
    "version": 3
   },
   "file_extension": ".py",
   "mimetype": "text/x-python",
   "name": "python",
   "nbconvert_exporter": "python",
   "pygments_lexer": "ipython3",
   "version": "3.11.4"
  }
 },
 "nbformat": 4,
 "nbformat_minor": 5
}
